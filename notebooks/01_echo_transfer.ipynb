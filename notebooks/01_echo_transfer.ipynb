{
 "cells": [
  {
   "cell_type": "code",
   "execution_count": null,
   "metadata": {},
   "outputs": [],
   "source": [
    "import pandas as pd, random, pathlib, os"
   ]
  },
  {
   "cell_type": "code",
   "execution_count": null,
   "metadata": {},
   "outputs": [],
   "source": [
    "root = pathlib.Path(\"echonet\")\n",
    "train_all = pd.read_csv(root/\"dynamic\"/\"train_split.csv\", header=None, names=[\"File\"])\n",
    "fewshot = train_all.sample(n=80, random_state=42)     # 80 train\n",
    "val = train_all.drop(fewshot.index).sample(n=10, random_state=42)  # 10 val\n",
    "test = pd.read_csv(root/\"dynamic\"/\"val_split.csv\", header=None, names=[\"File\"]).sample(n=10, random_state=42)\n"
   ]
  },
  {
   "cell_type": "code",
   "execution_count": null,
   "metadata": {},
   "outputs": [],
   "source": [
    "fewshot.to_csv(\"fewshot_train.csv\", index=False, header=False)\n",
    "val.to_csv(\"fewshot_val.csv\",   index=False, header=False)\n",
    "test.to_csv(\"fewshot_test.csv\", index=False, header=False)\n",
    "print(\"few-shot splits written.\")"
   ]
  }
 ],
 "metadata": {
  "language_info": {
   "name": "python"
  }
 },
 "nbformat": 4,
 "nbformat_minor": 2
}
